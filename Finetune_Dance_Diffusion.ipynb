{
 "cells": [
  {
   "cell_type": "markdown",
   "metadata": {
    "id": "f39_5v4kEAMo"
   },
   "source": [
    "<a href=\"https://colab.research.google.com/github/Harmonai-org/sample-generator/blob/main/Finetune_Dance_Diffusion.ipynb\" target=\"_parent\"><img src=\"https://colab.research.google.com/assets/colab-badge.svg\" alt=\"Open In Colab\"/></a>"
   ]
  },
  {
   "cell_type": "markdown",
   "metadata": {
    "id": "HHcTRGvUmoME"
   },
   "source": [
    "# Dance Diffusion finetune"
   ]
  },
  {
   "cell_type": "markdown",
   "metadata": {
    "id": "u97w34BXmust"
   },
   "source": [
    "Licensed under the MIT License\n",
    "\n",
    "Copyright (c) 2022 Zach Evans\n",
    "\n",
    "Permission is hereby granted, free of charge, to any person obtaining a copy\n",
    "of this software and associated documentation files (the \"Software\"), to deal\n",
    "in the Software without restriction, including without limitation the rights\n",
    "to use, copy, modify, merge, publish, distribute, sublicense, and/or sell\n",
    "copies of the Software, and to permit persons to whom the Software is\n",
    "furnished to do so, subject to the following conditions:\n",
    "\n",
    "The above copyright notice and this permission notice shall be included in\n",
    "all copies or substantial portions of the Software.\n",
    "\n",
    "THE SOFTWARE IS PROVIDED \"AS IS\", WITHOUT WARRANTY OF ANY KIND, EXPRESS OR\n",
    "IMPLIED, INCLUDING BUT NOT LIMITED TO THE WARRANTIES OF MERCHANTABILITY,\n",
    "FITNESS FOR A PARTICULAR PURPOSE AND NONINFRINGEMENT. IN NO EVENT SHALL THE\n",
    "AUTHORS OR COPYRIGHT HOLDERS BE LIABLE FOR ANY CLAIM, DAMAGES OR OTHER\n",
    "LIABILITY, WHETHER IN AN ACTION OF CONTRACT, TORT OR OTHERWISE, ARISING FROM,\n",
    "OUT OF OR IN CONNECTION WITH THE SOFTWARE OR THE USE OR OTHER DEALINGS IN\n",
    "THE SOFTWARE.\n"
   ]
  },
  {
   "cell_type": "markdown",
   "metadata": {
    "id": "lU97ZiP7nSKS"
   },
   "source": [
    "# Set Up"
   ]
  },
  {
   "cell_type": "code",
   "execution_count": 5,
   "metadata": {
    "cellView": "form",
    "id": "mxb-qgh0nUOf"
   },
   "outputs": [
    {
     "name": "stdout",
     "output_type": "stream",
     "text": [
      "GPU 0: NVIDIA GeForce RTX 4090 (UUID: GPU-9e7d466b-797c-8403-0aab-ac50e8ba1ec5)\n",
      "\n"
     ]
    }
   ],
   "source": [
    "#@title Check GPU Status\n",
    "import subprocess\n",
    "simple_nvidia_smi_display = True#@param {type:\"boolean\"}\n",
    "if simple_nvidia_smi_display:\n",
    "    #!nvidia-smi\n",
    "    nvidiasmi_output = subprocess.run(['nvidia-smi', '-L'], stdout=subprocess.PIPE).stdout.decode('utf-8')\n",
    "    print(nvidiasmi_output)\n",
    "else:\n",
    "    #!nvidia-smi -i 0 -e 0\n",
    "    nvidiasmi_output = subprocess.run(['nvidia-smi'], stdout=subprocess.PIPE).stdout.decode('utf-8')\n",
    "    print(nvidiasmi_output)\n",
    "    nvidiasmi_ecc_note = subprocess.run(['nvidia-smi', '-i', '0', '-e', '0'], stdout=subprocess.PIPE).stdout.decode('utf-8')\n",
    "    print(nvidiasmi_ecc_note)"
   ]
  },
  {
   "cell_type": "code",
   "execution_count": 6,
   "metadata": {
    "cellView": "form",
    "id": "T_mFtzHvnlJL"
   },
   "outputs": [
    {
     "name": "stdout",
     "output_type": "stream",
     "text": [
      "Google Colab not detected.\n"
     ]
    }
   ],
   "source": [
    "#@title Prepare folders\n",
    "import subprocess, os, sys, ipykernel\n",
    "\n",
    "def gitclone(url, targetdir=None):\n",
    "    if targetdir:\n",
    "        res = subprocess.run(['git', 'clone', url, targetdir], stdout=subprocess.PIPE).stdout.decode('utf-8')\n",
    "    else:\n",
    "        res = subprocess.run(['git', 'clone', url], stdout=subprocess.PIPE).stdout.decode('utf-8')\n",
    "    print(res)\n",
    "\n",
    "def pipi(modulestr):\n",
    "    res = subprocess.run(['pip', 'install', modulestr], stdout=subprocess.PIPE).stdout.decode('utf-8')\n",
    "    print(res)\n",
    "\n",
    "def pipie(modulestr):\n",
    "    res = subprocess.run(['git', 'install', '-e', modulestr], stdout=subprocess.PIPE).stdout.decode('utf-8')\n",
    "    print(res)\n",
    "\n",
    "def wget(url, outputdir):\n",
    "    res = subprocess.run(['wget', url, '-P', f'{outputdir}'], stdout=subprocess.PIPE).stdout.decode('utf-8')\n",
    "    print(res)\n",
    "\n",
    "try:\n",
    "    from google.colab import drive\n",
    "    print(\"Google Colab detected. Using Google Drive.\")\n",
    "    is_colab = True\n",
    "    google_drive = True #@param {type:\"boolean\"}\n",
    "    #@markdown Click here if you'd like to save the diffusion model checkpoint file to (and/or load from) your Google Drive:\n",
    "    save_models_to_google_drive = True #@param {type:\"boolean\"}\n",
    "except:\n",
    "    is_colab = False\n",
    "    google_drive = False\n",
    "    save_models_to_google_drive = False\n",
    "    print(\"Google Colab not detected.\")\n",
    "\n",
    "if is_colab:\n",
    "    if google_drive is True:\n",
    "        drive.mount('/content/drive')\n",
    "        root_path = '/content/drive/MyDrive/AI/Bass_Diffusion'\n",
    "    else:\n",
    "        root_path = '/content'\n",
    "else:\n",
    "    root_path = os.getcwd()\n",
    "\n",
    "import os\n",
    "def createPath(filepath):\n",
    "    os.makedirs(filepath, exist_ok=True)\n",
    "\n",
    "initDirPath = f'{root_path}/init_audio'\n",
    "createPath(initDirPath)\n",
    "outDirPath = f'{root_path}/audio_out'\n",
    "createPath(outDirPath)\n",
    "\n",
    "if is_colab:\n",
    "    if google_drive and not save_models_to_google_drive or not google_drive:\n",
    "        model_path = '/content/models'\n",
    "        createPath(model_path)\n",
    "    if google_drive and save_models_to_google_drive:\n",
    "        model_path = f'{root_path}/models'\n",
    "        createPath(model_path)\n",
    "else:\n",
    "    model_path = f'{root_path}/models'\n",
    "    createPath(model_path)\n",
    "\n",
    "#@markdown Click here if you'd like to save the diffusion model checkpoint file to your [Weights & Biases](www.wandb.ai/site) account:\n",
    "save_models_to_wandb = False #@param {type:\"boolean\"}\n",
    "save_wandb_str = '--save-wandb all' if save_models_to_wandb else ''\n",
    "if save_models_to_wandb == True:\n",
    "    print('Saving model checkpoints in wandb')"
   ]
  },
  {
   "cell_type": "code",
   "execution_count": 14,
   "metadata": {
    "cellView": "form",
    "id": "y9BS0ks1oEgP"
   },
   "outputs": [
    {
     "name": "stdout",
     "output_type": "stream",
     "text": [
      "Processing ./sample-generator\n",
      "  Preparing metadata (setup.py) ... \u001b[?25ldone\n",
      "\u001b[?25hRequirement already satisfied: einops in /home/tsroka/github/Audio2AudioEchoes/.venv/lib/python3.10/site-packages (from sample-generator==1.0.0) (0.8.1)\n",
      "Requirement already satisfied: pandas in /home/tsroka/github/Audio2AudioEchoes/.venv/lib/python3.10/site-packages (from sample-generator==1.0.0) (2.2.3)\n",
      "Requirement already satisfied: prefigure in /home/tsroka/github/Audio2AudioEchoes/.venv/lib/python3.10/site-packages (from sample-generator==1.0.0) (0.0.10)\n",
      "Requirement already satisfied: pytorch_lightning in /home/tsroka/github/Audio2AudioEchoes/.venv/lib/python3.10/site-packages (from sample-generator==1.0.0) (2.5.1.post0)\n",
      "Requirement already satisfied: scipy in /home/tsroka/github/Audio2AudioEchoes/.venv/lib/python3.10/site-packages (from sample-generator==1.0.0) (1.15.3)\n",
      "Requirement already satisfied: torch in /home/tsroka/github/Audio2AudioEchoes/.venv/lib/python3.10/site-packages (from sample-generator==1.0.0) (2.7.0)\n",
      "Requirement already satisfied: torchaudio in /home/tsroka/github/Audio2AudioEchoes/.venv/lib/python3.10/site-packages (from sample-generator==1.0.0) (2.7.0)\n",
      "Requirement already satisfied: tqdm in /home/tsroka/github/Audio2AudioEchoes/.venv/lib/python3.10/site-packages (from sample-generator==1.0.0) (4.67.1)\n",
      "Requirement already satisfied: wandb in /home/tsroka/github/Audio2AudioEchoes/.venv/lib/python3.10/site-packages (from sample-generator==1.0.0) (0.19.11)\n",
      "Requirement already satisfied: python-dateutil>=2.8.2 in /home/tsroka/github/Audio2AudioEchoes/.venv/lib/python3.10/site-packages (from pandas->sample-generator==1.0.0) (2.9.0.post0)\n",
      "Requirement already satisfied: numpy>=1.22.4 in /home/tsroka/github/Audio2AudioEchoes/.venv/lib/python3.10/site-packages (from pandas->sample-generator==1.0.0) (2.2.5)\n",
      "Requirement already satisfied: tzdata>=2022.7 in /home/tsroka/github/Audio2AudioEchoes/.venv/lib/python3.10/site-packages (from pandas->sample-generator==1.0.0) (2025.2)\n",
      "Requirement already satisfied: pytz>=2020.1 in /home/tsroka/github/Audio2AudioEchoes/.venv/lib/python3.10/site-packages (from pandas->sample-generator==1.0.0) (2025.2)\n",
      "Collecting argparse\n",
      "  Using cached argparse-1.4.0-py2.py3-none-any.whl (23 kB)\n",
      "Requirement already satisfied: configparser in /home/tsroka/github/Audio2AudioEchoes/.venv/lib/python3.10/site-packages (from prefigure->sample-generator==1.0.0) (7.2.0)\n",
      "Requirement already satisfied: gin-config in /home/tsroka/github/Audio2AudioEchoes/.venv/lib/python3.10/site-packages (from prefigure->sample-generator==1.0.0) (0.5.0)\n",
      "Requirement already satisfied: gradio in /home/tsroka/github/Audio2AudioEchoes/.venv/lib/python3.10/site-packages (from prefigure->sample-generator==1.0.0) (5.29.0)\n",
      "Requirement already satisfied: PyYAML>=5.4 in /home/tsroka/github/Audio2AudioEchoes/.venv/lib/python3.10/site-packages (from pytorch_lightning->sample-generator==1.0.0) (6.0.2)\n",
      "Requirement already satisfied: packaging>=20.0 in /home/tsroka/github/Audio2AudioEchoes/.venv/lib/python3.10/site-packages (from pytorch_lightning->sample-generator==1.0.0) (25.0)\n",
      "Requirement already satisfied: lightning-utilities>=0.10.0 in /home/tsroka/github/Audio2AudioEchoes/.venv/lib/python3.10/site-packages (from pytorch_lightning->sample-generator==1.0.0) (0.14.3)\n",
      "Requirement already satisfied: torchmetrics>=0.7.0 in /home/tsroka/github/Audio2AudioEchoes/.venv/lib/python3.10/site-packages (from pytorch_lightning->sample-generator==1.0.0) (1.7.1)\n",
      "Requirement already satisfied: typing-extensions>=4.4.0 in /home/tsroka/github/Audio2AudioEchoes/.venv/lib/python3.10/site-packages (from pytorch_lightning->sample-generator==1.0.0) (4.13.2)\n",
      "Requirement already satisfied: fsspec[http]>=2022.5.0 in /home/tsroka/github/Audio2AudioEchoes/.venv/lib/python3.10/site-packages (from pytorch_lightning->sample-generator==1.0.0) (2025.3.2)\n",
      "Requirement already satisfied: nvidia-nvjitlink-cu12==12.6.85 in /home/tsroka/github/Audio2AudioEchoes/.venv/lib/python3.10/site-packages (from torch->sample-generator==1.0.0) (12.6.85)\n",
      "Requirement already satisfied: nvidia-cufile-cu12==1.11.1.6 in /home/tsroka/github/Audio2AudioEchoes/.venv/lib/python3.10/site-packages (from torch->sample-generator==1.0.0) (1.11.1.6)\n",
      "Requirement already satisfied: nvidia-cuda-nvrtc-cu12==12.6.77 in /home/tsroka/github/Audio2AudioEchoes/.venv/lib/python3.10/site-packages (from torch->sample-generator==1.0.0) (12.6.77)\n",
      "Requirement already satisfied: nvidia-cusolver-cu12==11.7.1.2 in /home/tsroka/github/Audio2AudioEchoes/.venv/lib/python3.10/site-packages (from torch->sample-generator==1.0.0) (11.7.1.2)\n",
      "Requirement already satisfied: nvidia-cudnn-cu12==9.5.1.17 in /home/tsroka/github/Audio2AudioEchoes/.venv/lib/python3.10/site-packages (from torch->sample-generator==1.0.0) (9.5.1.17)\n",
      "Requirement already satisfied: sympy>=1.13.3 in /home/tsroka/github/Audio2AudioEchoes/.venv/lib/python3.10/site-packages (from torch->sample-generator==1.0.0) (1.14.0)\n",
      "Requirement already satisfied: networkx in /home/tsroka/github/Audio2AudioEchoes/.venv/lib/python3.10/site-packages (from torch->sample-generator==1.0.0) (3.4.2)\n",
      "Requirement already satisfied: jinja2 in /home/tsroka/github/Audio2AudioEchoes/.venv/lib/python3.10/site-packages (from torch->sample-generator==1.0.0) (3.1.6)\n",
      "Requirement already satisfied: nvidia-nvtx-cu12==12.6.77 in /home/tsroka/github/Audio2AudioEchoes/.venv/lib/python3.10/site-packages (from torch->sample-generator==1.0.0) (12.6.77)\n",
      "Requirement already satisfied: nvidia-cuda-cupti-cu12==12.6.80 in /home/tsroka/github/Audio2AudioEchoes/.venv/lib/python3.10/site-packages (from torch->sample-generator==1.0.0) (12.6.80)\n",
      "Requirement already satisfied: nvidia-cuda-runtime-cu12==12.6.77 in /home/tsroka/github/Audio2AudioEchoes/.venv/lib/python3.10/site-packages (from torch->sample-generator==1.0.0) (12.6.77)\n",
      "Requirement already satisfied: nvidia-cusparse-cu12==12.5.4.2 in /home/tsroka/github/Audio2AudioEchoes/.venv/lib/python3.10/site-packages (from torch->sample-generator==1.0.0) (12.5.4.2)\n",
      "Requirement already satisfied: nvidia-cufft-cu12==11.3.0.4 in /home/tsroka/github/Audio2AudioEchoes/.venv/lib/python3.10/site-packages (from torch->sample-generator==1.0.0) (11.3.0.4)\n",
      "Requirement already satisfied: nvidia-cublas-cu12==12.6.4.1 in /home/tsroka/github/Audio2AudioEchoes/.venv/lib/python3.10/site-packages (from torch->sample-generator==1.0.0) (12.6.4.1)\n",
      "Requirement already satisfied: nvidia-nccl-cu12==2.26.2 in /home/tsroka/github/Audio2AudioEchoes/.venv/lib/python3.10/site-packages (from torch->sample-generator==1.0.0) (2.26.2)\n",
      "Requirement already satisfied: triton==3.3.0 in /home/tsroka/github/Audio2AudioEchoes/.venv/lib/python3.10/site-packages (from torch->sample-generator==1.0.0) (3.3.0)\n",
      "Requirement already satisfied: nvidia-cusparselt-cu12==0.6.3 in /home/tsroka/github/Audio2AudioEchoes/.venv/lib/python3.10/site-packages (from torch->sample-generator==1.0.0) (0.6.3)\n",
      "Requirement already satisfied: filelock in /home/tsroka/github/Audio2AudioEchoes/.venv/lib/python3.10/site-packages (from torch->sample-generator==1.0.0) (3.18.0)\n",
      "Requirement already satisfied: nvidia-curand-cu12==10.3.7.77 in /home/tsroka/github/Audio2AudioEchoes/.venv/lib/python3.10/site-packages (from torch->sample-generator==1.0.0) (10.3.7.77)\n",
      "Requirement already satisfied: setuptools>=40.8.0 in /home/tsroka/github/Audio2AudioEchoes/.venv/lib/python3.10/site-packages (from triton==3.3.0->torch->sample-generator==1.0.0) (59.6.0)\n",
      "Requirement already satisfied: sentry-sdk>=2.0.0 in /home/tsroka/github/Audio2AudioEchoes/.venv/lib/python3.10/site-packages (from wandb->sample-generator==1.0.0) (2.28.0)\n",
      "Requirement already satisfied: docker-pycreds>=0.4.0 in /home/tsroka/github/Audio2AudioEchoes/.venv/lib/python3.10/site-packages (from wandb->sample-generator==1.0.0) (0.4.0)\n",
      "Requirement already satisfied: psutil>=5.0.0 in /home/tsroka/github/Audio2AudioEchoes/.venv/lib/python3.10/site-packages (from wandb->sample-generator==1.0.0) (7.0.0)\n",
      "Requirement already satisfied: click!=8.0.0,>=7.1 in /home/tsroka/github/Audio2AudioEchoes/.venv/lib/python3.10/site-packages (from wandb->sample-generator==1.0.0) (8.2.0)\n",
      "Requirement already satisfied: protobuf!=4.21.0,!=5.28.0,<7,>=3.19.0 in /home/tsroka/github/Audio2AudioEchoes/.venv/lib/python3.10/site-packages (from wandb->sample-generator==1.0.0) (6.30.2)\n",
      "Requirement already satisfied: setproctitle in /home/tsroka/github/Audio2AudioEchoes/.venv/lib/python3.10/site-packages (from wandb->sample-generator==1.0.0) (1.3.6)\n",
      "Requirement already satisfied: gitpython!=3.1.29,>=1.0.0 in /home/tsroka/github/Audio2AudioEchoes/.venv/lib/python3.10/site-packages (from wandb->sample-generator==1.0.0) (3.1.44)\n",
      "Requirement already satisfied: requests<3,>=2.0.0 in /home/tsroka/github/Audio2AudioEchoes/.venv/lib/python3.10/site-packages (from wandb->sample-generator==1.0.0) (2.32.3)\n",
      "Requirement already satisfied: platformdirs in /home/tsroka/github/Audio2AudioEchoes/.venv/lib/python3.10/site-packages (from wandb->sample-generator==1.0.0) (4.3.8)\n",
      "Requirement already satisfied: pydantic<3 in /home/tsroka/github/Audio2AudioEchoes/.venv/lib/python3.10/site-packages (from wandb->sample-generator==1.0.0) (2.11.4)\n",
      "Requirement already satisfied: six>=1.4.0 in /home/tsroka/github/Audio2AudioEchoes/.venv/lib/python3.10/site-packages (from docker-pycreds>=0.4.0->wandb->sample-generator==1.0.0) (1.17.0)\n",
      "Requirement already satisfied: aiohttp!=4.0.0a0,!=4.0.0a1 in /home/tsroka/github/Audio2AudioEchoes/.venv/lib/python3.10/site-packages (from fsspec[http]>=2022.5.0->pytorch_lightning->sample-generator==1.0.0) (3.11.18)\n",
      "Requirement already satisfied: gitdb<5,>=4.0.1 in /home/tsroka/github/Audio2AudioEchoes/.venv/lib/python3.10/site-packages (from gitpython!=3.1.29,>=1.0.0->wandb->sample-generator==1.0.0) (4.0.12)\n",
      "Requirement already satisfied: pydantic-core==2.33.2 in /home/tsroka/github/Audio2AudioEchoes/.venv/lib/python3.10/site-packages (from pydantic<3->wandb->sample-generator==1.0.0) (2.33.2)\n",
      "Requirement already satisfied: annotated-types>=0.6.0 in /home/tsroka/github/Audio2AudioEchoes/.venv/lib/python3.10/site-packages (from pydantic<3->wandb->sample-generator==1.0.0) (0.7.0)\n",
      "Requirement already satisfied: typing-inspection>=0.4.0 in /home/tsroka/github/Audio2AudioEchoes/.venv/lib/python3.10/site-packages (from pydantic<3->wandb->sample-generator==1.0.0) (0.4.0)\n",
      "Requirement already satisfied: urllib3<3,>=1.21.1 in /home/tsroka/github/Audio2AudioEchoes/.venv/lib/python3.10/site-packages (from requests<3,>=2.0.0->wandb->sample-generator==1.0.0) (2.4.0)\n",
      "Requirement already satisfied: idna<4,>=2.5 in /home/tsroka/github/Audio2AudioEchoes/.venv/lib/python3.10/site-packages (from requests<3,>=2.0.0->wandb->sample-generator==1.0.0) (3.10)\n",
      "Requirement already satisfied: charset-normalizer<4,>=2 in /home/tsroka/github/Audio2AudioEchoes/.venv/lib/python3.10/site-packages (from requests<3,>=2.0.0->wandb->sample-generator==1.0.0) (3.4.2)\n",
      "Requirement already satisfied: certifi>=2017.4.17 in /home/tsroka/github/Audio2AudioEchoes/.venv/lib/python3.10/site-packages (from requests<3,>=2.0.0->wandb->sample-generator==1.0.0) (2025.4.26)\n",
      "Requirement already satisfied: mpmath<1.4,>=1.1.0 in /home/tsroka/github/Audio2AudioEchoes/.venv/lib/python3.10/site-packages (from sympy>=1.13.3->torch->sample-generator==1.0.0) (1.3.0)\n",
      "Requirement already satisfied: gradio-client==1.10.0 in /home/tsroka/github/Audio2AudioEchoes/.venv/lib/python3.10/site-packages (from gradio->prefigure->sample-generator==1.0.0) (1.10.0)\n",
      "Requirement already satisfied: groovy~=0.1 in /home/tsroka/github/Audio2AudioEchoes/.venv/lib/python3.10/site-packages (from gradio->prefigure->sample-generator==1.0.0) (0.1.2)\n",
      "Requirement already satisfied: markupsafe<4.0,>=2.0 in /home/tsroka/github/Audio2AudioEchoes/.venv/lib/python3.10/site-packages (from gradio->prefigure->sample-generator==1.0.0) (3.0.2)\n",
      "Requirement already satisfied: httpx>=0.24.1 in /home/tsroka/github/Audio2AudioEchoes/.venv/lib/python3.10/site-packages (from gradio->prefigure->sample-generator==1.0.0) (0.28.1)\n",
      "Requirement already satisfied: orjson~=3.0 in /home/tsroka/github/Audio2AudioEchoes/.venv/lib/python3.10/site-packages (from gradio->prefigure->sample-generator==1.0.0) (3.10.18)\n",
      "Requirement already satisfied: starlette<1.0,>=0.40.0 in /home/tsroka/github/Audio2AudioEchoes/.venv/lib/python3.10/site-packages (from gradio->prefigure->sample-generator==1.0.0) (0.46.2)\n",
      "Requirement already satisfied: uvicorn>=0.14.0 in /home/tsroka/github/Audio2AudioEchoes/.venv/lib/python3.10/site-packages (from gradio->prefigure->sample-generator==1.0.0) (0.34.2)\n",
      "Requirement already satisfied: tomlkit<0.14.0,>=0.12.0 in /home/tsroka/github/Audio2AudioEchoes/.venv/lib/python3.10/site-packages (from gradio->prefigure->sample-generator==1.0.0) (0.13.2)\n",
      "Requirement already satisfied: ffmpy in /home/tsroka/github/Audio2AudioEchoes/.venv/lib/python3.10/site-packages (from gradio->prefigure->sample-generator==1.0.0) (0.5.0)\n",
      "Requirement already satisfied: typer<1.0,>=0.12 in /home/tsroka/github/Audio2AudioEchoes/.venv/lib/python3.10/site-packages (from gradio->prefigure->sample-generator==1.0.0) (0.15.3)\n",
      "Requirement already satisfied: aiofiles<25.0,>=22.0 in /home/tsroka/github/Audio2AudioEchoes/.venv/lib/python3.10/site-packages (from gradio->prefigure->sample-generator==1.0.0) (24.1.0)\n",
      "Requirement already satisfied: anyio<5.0,>=3.0 in /home/tsroka/github/Audio2AudioEchoes/.venv/lib/python3.10/site-packages (from gradio->prefigure->sample-generator==1.0.0) (4.9.0)\n",
      "Requirement already satisfied: safehttpx<0.2.0,>=0.1.6 in /home/tsroka/github/Audio2AudioEchoes/.venv/lib/python3.10/site-packages (from gradio->prefigure->sample-generator==1.0.0) (0.1.6)\n",
      "Requirement already satisfied: ruff>=0.9.3 in /home/tsroka/github/Audio2AudioEchoes/.venv/lib/python3.10/site-packages (from gradio->prefigure->sample-generator==1.0.0) (0.11.9)\n",
      "Requirement already satisfied: pydub in /home/tsroka/github/Audio2AudioEchoes/.venv/lib/python3.10/site-packages (from gradio->prefigure->sample-generator==1.0.0) (0.25.1)\n",
      "Requirement already satisfied: huggingface-hub>=0.28.1 in /home/tsroka/github/Audio2AudioEchoes/.venv/lib/python3.10/site-packages (from gradio->prefigure->sample-generator==1.0.0) (0.31.1)\n",
      "Requirement already satisfied: fastapi<1.0,>=0.115.2 in /home/tsroka/github/Audio2AudioEchoes/.venv/lib/python3.10/site-packages (from gradio->prefigure->sample-generator==1.0.0) (0.115.12)\n",
      "Requirement already satisfied: semantic-version~=2.0 in /home/tsroka/github/Audio2AudioEchoes/.venv/lib/python3.10/site-packages (from gradio->prefigure->sample-generator==1.0.0) (2.10.0)\n",
      "Requirement already satisfied: python-multipart>=0.0.18 in /home/tsroka/github/Audio2AudioEchoes/.venv/lib/python3.10/site-packages (from gradio->prefigure->sample-generator==1.0.0) (0.0.20)\n",
      "Requirement already satisfied: pillow<12.0,>=8.0 in /home/tsroka/github/Audio2AudioEchoes/.venv/lib/python3.10/site-packages (from gradio->prefigure->sample-generator==1.0.0) (11.2.1)\n",
      "Requirement already satisfied: websockets<16.0,>=10.0 in /home/tsroka/github/Audio2AudioEchoes/.venv/lib/python3.10/site-packages (from gradio-client==1.10.0->gradio->prefigure->sample-generator==1.0.0) (15.0.1)\n",
      "Requirement already satisfied: frozenlist>=1.1.1 in /home/tsroka/github/Audio2AudioEchoes/.venv/lib/python3.10/site-packages (from aiohttp!=4.0.0a0,!=4.0.0a1->fsspec[http]>=2022.5.0->pytorch_lightning->sample-generator==1.0.0) (1.6.0)\n",
      "Requirement already satisfied: attrs>=17.3.0 in /home/tsroka/github/Audio2AudioEchoes/.venv/lib/python3.10/site-packages (from aiohttp!=4.0.0a0,!=4.0.0a1->fsspec[http]>=2022.5.0->pytorch_lightning->sample-generator==1.0.0) (25.3.0)\n",
      "Requirement already satisfied: multidict<7.0,>=4.5 in /home/tsroka/github/Audio2AudioEchoes/.venv/lib/python3.10/site-packages (from aiohttp!=4.0.0a0,!=4.0.0a1->fsspec[http]>=2022.5.0->pytorch_lightning->sample-generator==1.0.0) (6.4.3)\n",
      "Requirement already satisfied: aiosignal>=1.1.2 in /home/tsroka/github/Audio2AudioEchoes/.venv/lib/python3.10/site-packages (from aiohttp!=4.0.0a0,!=4.0.0a1->fsspec[http]>=2022.5.0->pytorch_lightning->sample-generator==1.0.0) (1.3.2)\n",
      "Requirement already satisfied: propcache>=0.2.0 in /home/tsroka/github/Audio2AudioEchoes/.venv/lib/python3.10/site-packages (from aiohttp!=4.0.0a0,!=4.0.0a1->fsspec[http]>=2022.5.0->pytorch_lightning->sample-generator==1.0.0) (0.3.1)\n",
      "Requirement already satisfied: yarl<2.0,>=1.17.0 in /home/tsroka/github/Audio2AudioEchoes/.venv/lib/python3.10/site-packages (from aiohttp!=4.0.0a0,!=4.0.0a1->fsspec[http]>=2022.5.0->pytorch_lightning->sample-generator==1.0.0) (1.20.0)\n",
      "Requirement already satisfied: aiohappyeyeballs>=2.3.0 in /home/tsroka/github/Audio2AudioEchoes/.venv/lib/python3.10/site-packages (from aiohttp!=4.0.0a0,!=4.0.0a1->fsspec[http]>=2022.5.0->pytorch_lightning->sample-generator==1.0.0) (2.6.1)\n",
      "Requirement already satisfied: async-timeout<6.0,>=4.0 in /home/tsroka/github/Audio2AudioEchoes/.venv/lib/python3.10/site-packages (from aiohttp!=4.0.0a0,!=4.0.0a1->fsspec[http]>=2022.5.0->pytorch_lightning->sample-generator==1.0.0) (5.0.1)\n",
      "Requirement already satisfied: sniffio>=1.1 in /home/tsroka/github/Audio2AudioEchoes/.venv/lib/python3.10/site-packages (from anyio<5.0,>=3.0->gradio->prefigure->sample-generator==1.0.0) (1.3.1)\n",
      "Requirement already satisfied: exceptiongroup>=1.0.2 in /home/tsroka/github/Audio2AudioEchoes/.venv/lib/python3.10/site-packages (from anyio<5.0,>=3.0->gradio->prefigure->sample-generator==1.0.0) (1.3.0)\n",
      "Requirement already satisfied: smmap<6,>=3.0.1 in /home/tsroka/github/Audio2AudioEchoes/.venv/lib/python3.10/site-packages (from gitdb<5,>=4.0.1->gitpython!=3.1.29,>=1.0.0->wandb->sample-generator==1.0.0) (5.0.2)\n",
      "Requirement already satisfied: httpcore==1.* in /home/tsroka/github/Audio2AudioEchoes/.venv/lib/python3.10/site-packages (from httpx>=0.24.1->gradio->prefigure->sample-generator==1.0.0) (1.0.9)\n",
      "Requirement already satisfied: h11>=0.16 in /home/tsroka/github/Audio2AudioEchoes/.venv/lib/python3.10/site-packages (from httpcore==1.*->httpx>=0.24.1->gradio->prefigure->sample-generator==1.0.0) (0.16.0)\n",
      "Requirement already satisfied: hf-xet<2.0.0,>=1.1.0 in /home/tsroka/github/Audio2AudioEchoes/.venv/lib/python3.10/site-packages (from huggingface-hub>=0.28.1->gradio->prefigure->sample-generator==1.0.0) (1.1.1)\n",
      "Requirement already satisfied: rich>=10.11.0 in /home/tsroka/github/Audio2AudioEchoes/.venv/lib/python3.10/site-packages (from typer<1.0,>=0.12->gradio->prefigure->sample-generator==1.0.0) (14.0.0)\n",
      "Requirement already satisfied: shellingham>=1.3.0 in /home/tsroka/github/Audio2AudioEchoes/.venv/lib/python3.10/site-packages (from typer<1.0,>=0.12->gradio->prefigure->sample-generator==1.0.0) (1.5.4)\n",
      "Requirement already satisfied: pygments<3.0.0,>=2.13.0 in /home/tsroka/github/Audio2AudioEchoes/.venv/lib/python3.10/site-packages (from rich>=10.11.0->typer<1.0,>=0.12->gradio->prefigure->sample-generator==1.0.0) (2.19.1)\n",
      "Requirement already satisfied: markdown-it-py>=2.2.0 in /home/tsroka/github/Audio2AudioEchoes/.venv/lib/python3.10/site-packages (from rich>=10.11.0->typer<1.0,>=0.12->gradio->prefigure->sample-generator==1.0.0) (3.0.0)\n",
      "Requirement already satisfied: mdurl~=0.1 in /home/tsroka/github/Audio2AudioEchoes/.venv/lib/python3.10/site-packages (from markdown-it-py>=2.2.0->rich>=10.11.0->typer<1.0,>=0.12->gradio->prefigure->sample-generator==1.0.0) (0.1.2)\n",
      "Using legacy 'setup.py install' for sample-generator, since package 'wheel' is not installed.\n",
      "Installing collected packages: argparse, sample-generator\n",
      "  Attempting uninstall: sample-generator\n",
      "    Found existing installation: sample-generator 1.0.0\n",
      "    Uninstalling sample-generator-1.0.0:\n",
      "      Successfully uninstalled sample-generator-1.0.0\n",
      "  Running setup.py install for sample-generator ... \u001b[?25ldone\n",
      "\u001b[?25hSuccessfully installed argparse-1.4.0 sample-generator-1.0.0\n"
     ]
    }
   ],
   "source": [
    "#@title Install dependencies\n",
    "#!git clone https://github.com/harmonai-org/sample-generator\n",
    "!pip install ./sample-generator"
   ]
  },
  {
   "cell_type": "markdown",
   "metadata": {
    "id": "0xq2TJzIPTcJ"
   },
   "source": [
    "# Train"
   ]
  },
  {
   "cell_type": "code",
   "execution_count": 15,
   "metadata": {
    "cellView": "form",
    "id": "oxJFFEZ8CD8g"
   },
   "outputs": [
    {
     "name": "stdout",
     "output_type": "stream",
     "text": [
      "\u001b[34m\u001b[1mwandb\u001b[0m: \u001b[33mWARNING\u001b[0m Using legacy-service, which is deprecated. If this is unintentional, you can fix it by ensuring you do not call `wandb.require('legacy-service')` and do not set the WANDB_X_REQUIRE_LEGACY_SERVICE environment variable.\n",
      "\u001b[34m\u001b[1mwandb\u001b[0m: Currently logged in as: \u001b[33mmadghostek\u001b[0m (\u001b[33mmadghostek-warsaw-university-of-technology\u001b[0m) to \u001b[32mhttps://api.wandb.ai\u001b[0m. Use \u001b[1m`wandb login --relogin`\u001b[0m to force relogin\n"
     ]
    }
   ],
   "source": [
    "#@markdown Log in to [Weights & Biases](https://wandb.ai/) for run tracking\n",
    "!wandb login"
   ]
  },
  {
   "cell_type": "code",
   "execution_count": 16,
   "metadata": {
    "cellView": "form",
    "id": "-Q0XrS0HEmch"
   },
   "outputs": [
    {
     "name": "stdout",
     "output_type": "stream",
     "text": [
      "Using device: cuda\n",
      "Random crop: True\n",
      "/home/tsroka/github/Audio2AudioEchoes/.venv/lib/python3.10/site-packages/lightning_fabric/connector.py:571: `precision=16` is supported for historical reasons but its usage is discouraged. Please set your precision to 16-mixed instead!\n",
      "Using 16bit Automatic Mixed Precision (AMP)\n",
      "GPU available: True (cuda), used: True\n",
      "TPU available: False, using: 0 TPU cores\n",
      "HPU available: False, using: 0 HPUs\n",
      "/home/tsroka/github/Audio2AudioEchoes/.venv/lib/python3.10/site-packages/pytorch_lightning/trainer/configuration_validator.py:70: You defined a `validation_step` but have no `val_dataloader`. Skipping val loop.\n",
      "You are using a CUDA device ('NVIDIA GeForce RTX 4090') that has Tensor Cores. To properly utilize them, you should set `torch.set_float32_matmul_precision('medium' | 'high')` which will trade-off precision for performance. For more details, read https://pytorch.org/docs/stable/generated/torch.set_float32_matmul_precision.html#torch.set_float32_matmul_precision\n",
      "/home/tsroka/github/Audio2AudioEchoes/.venv/lib/python3.10/site-packages/pytorch_lightning/callbacks/model_checkpoint.py:654: Checkpoint directory /home/tsroka/github/Audio2AudioEchoes/finetune_outputs/dd/groove_75_10_files2 exists and is not empty.\n",
      "Restoring states from the checkpoint path at ../finetune_outputs/dd/groove_75_full_dataset/epoch=562-step=52600.ckpt\n",
      "/home/tsroka/github/Audio2AudioEchoes/.venv/lib/python3.10/site-packages/pytorch_lightning/callbacks/model_checkpoint.py:362: The dirpath has changed from '/home/tsroka/github/Audio2AudioEchoes/finetune_outputs/dd/dd-drums-finetune' to '/home/tsroka/github/Audio2AudioEchoes/finetune_outputs/dd/groove_75_10_files2', therefore `best_model_score`, `kth_best_model_path`, `kth_value`, `last_model_path` and `best_k_models` won't be reloaded. Only `best_model_path` will be reloaded.\n",
      "LOCAL_RANK: 0 - CUDA_VISIBLE_DEVICES: [0]\n",
      "\n",
      "  | Name          | Type                | Params | Mode \n",
      "--------------------------------------------------------------\n",
      "0 | diffusion     | DiffusionAttnUnet1D | 221 M  | train\n",
      "1 | diffusion_ema | DiffusionAttnUnet1D | 221 M  | train\n",
      "--------------------------------------------------------------\n",
      "442 M     Trainable params\n",
      "0         Non-trainable params\n",
      "442 M     Total params\n",
      "1,771.102 Total estimated model params size (MB)\n",
      "2068      Modules in train mode\n",
      "0         Modules in eval mode\n",
      "Restored all states from the checkpoint at ../finetune_outputs/dd/groove_75_full_dataset/epoch=562-step=52600.ckpt\n",
      "Training: |                                               | 0/? [00:00<?, ?it/s]/home/tsroka/github/Audio2AudioEchoes/dance-diffusion/train_uncond.py:100: FutureWarning: `torch.cuda.amp.autocast(args...)` is deprecated. Please use `torch.amp.autocast('cuda', args...)` instead.\n",
      "  with torch.cuda.amp.autocast():\n",
      "Epoch 684:  67%|████████████████▋        | 2/3 [00:00<00:00,  2.80it/s, v_num=3]^C\n",
      "\n",
      "Detected KeyboardInterrupt, attempting graceful shutdown ...\n",
      "KeyboardInterrupt: \n"
     ]
    }
   ],
   "source": [
    "#@markdown Name for the finetune project, used as the W&B project name, as well as the directory for the saved checkpoints\n",
    "from pathlib import Path\n",
    "\n",
    "\n",
    "NAME=\"groove_75_10_files2\" #@param {type:\"string\"}\n",
    "\n",
    "#@markdown Path to the directory of audio data to use for fine-tuning\n",
    "TRAINING_DIR=Path.home()/\"datasets/echo_75/groove\" #@param {type:\"string\"}\n",
    "\n",
    "#@markdown Path to the checkpoint to fine-tune \n",
    "CKPT_PATH=\"../finetune_outputs/dd/groove_75_full_dataset/epoch=562-step=52600.ckpt\" #@param {type:\"string\"}\n",
    "\n",
    "#@markdown Directory path for saving the fine-tuned outputs\n",
    "OUTPUT_DIR=\"../finetune_outputs/dd\" #@param {type:\"string\"}\n",
    "\n",
    "#@markdown Number of epochs between demos\n",
    "DEMO_EVERY=2000 #@param {type:\"number\"}\n",
    "\n",
    "#@markdown Number of training steps between saving model checkpoints\n",
    "CHECKPOINT_EVERY=100 #@param {type:\"number\"}\n",
    "\n",
    "#@markdown Sample rate to train at\n",
    "SAMPLE_RATE=48000 #@param {type:\"number\"}\n",
    "\n",
    "#@markdown Number of audio samples per training sample\n",
    "SAMPLE_SIZE=81920 #@param {type:\"number\"} # CHANGED FOR AUDIOECHOES\n",
    " \n",
    "#@markdown If true, the audio samples provided will be randomly cropped to SAMPLE_SIZE samples\n",
    "#@markdown\n",
    "#@markdown Turn off if you want to ensure the training data always starts at the beginning of the audio files (good for things like drum one-shots)\n",
    "RANDOM_CROP=True #@param {type:\"boolean\"}\n",
    "\n",
    "#@markdown Batch size to fine-tune (make it as high as it can go for your GPU)\n",
    "BATCH_SIZE=3 #@param {type:\"number\"}\n",
    "\n",
    "#@markdown Accumulate gradients over n batches, useful for training on one GPU. \n",
    "#@markdown\n",
    "#@markdown Effective batch size is BATCH_SIZE * ACCUM_BATCHES.\n",
    "#@markdown\n",
    "#@markdown Also increases the time between demos and saved checkpoints\n",
    "ACCUM_BATCHES=4 #@param {type:\"number\"}\n",
    "\n",
    "random_crop_str = f\"--random-crop True\" if RANDOM_CROP else \"\"\n",
    "\n",
    "# Escape spaces in paths\n",
    "CKPT_PATH = CKPT_PATH.replace(f\" \", f\"\\ \")\n",
    "OUTPUT_DIR = f\"{OUTPUT_DIR}/{NAME}\".replace(f\" \", f\"\\ \")\n",
    "\n",
    "ckpt_path_str = f\"--ckpt-path {CKPT_PATH}\" if not CKPT_PATH ==\"\" else \"\"\n",
    "\n",
    "!python3 train_uncond.py $ckpt_path_str \\\n",
    "                                                          --name $NAME \\\n",
    "                                                          --training-dir $TRAINING_DIR \\\n",
    "                                                          --sample-size $SAMPLE_SIZE \\\n",
    "                                                          --accum-batches $ACCUM_BATCHES \\\n",
    "                                                          --sample-rate $SAMPLE_RATE \\\n",
    "                                                          --batch-size $BATCH_SIZE \\\n",
    "                                                          --demo-every $DEMO_EVERY \\\n",
    "                                                          --checkpoint-every $CHECKPOINT_EVERY \\\n",
    "                                                          --num-workers 2 \\\n",
    "                                                          $save_wandb_str \\\n",
    "                                                          --num-gpus 1 \\\n",
    "                                                          $random_crop_str \\\n",
    "                                                          --save-path $OUTPUT_DIR \\\n",
    "                                                          --log-path log"
   ]
  }
 ],
 "metadata": {
  "accelerator": "GPU",
  "colab": {
   "collapsed_sections": [
    "HHcTRGvUmoME"
   ],
   "provenance": []
  },
  "gpuClass": "standard",
  "kernelspec": {
   "display_name": ".venv",
   "language": "python",
   "name": "python3"
  },
  "language_info": {
   "codemirror_mode": {
    "name": "ipython",
    "version": 3
   },
   "file_extension": ".py",
   "mimetype": "text/x-python",
   "name": "python",
   "nbconvert_exporter": "python",
   "pygments_lexer": "ipython3",
   "version": "3.10.12"
  }
 },
 "nbformat": 4,
 "nbformat_minor": 0
}
